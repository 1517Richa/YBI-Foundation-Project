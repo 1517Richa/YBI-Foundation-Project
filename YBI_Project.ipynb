{
 "cells": [
  {
   "cell_type": "code",
   "execution_count": 9,
   "id": "72a1986f-b311-488d-9639-e5866fadee43",
   "metadata": {},
   "outputs": [],
   "source": [
    "# **Jupyter Notebook: Simple Web Scraper with BeautifulSoup**"
   ]
  },
  {
   "cell_type": "code",
   "execution_count": 10,
   "id": "49241562-555b-449d-8756-e3433296a417",
   "metadata": {},
   "outputs": [],
   "source": [
    "## **Objective**"
   ]
  },
  {
   "cell_type": "code",
   "execution_count": null,
   "id": "f968fb57-df1a-4f27-8273-0f399b7c6bf6",
   "metadata": {},
   "outputs": [],
   "source": [
    "To make a simple web scraper using libraries like BeautifulSoup to extract data from websites."
   ]
  },
  {
   "cell_type": "code",
   "execution_count": 1,
   "id": "f3c7c02d-4b65-46b8-b516-7fb189bf8045",
   "metadata": {},
   "outputs": [
    {
     "name": "stdout",
     "output_type": "stream",
     "text": [
      "Requirement already satisfied: requests in c:\\users\\ankur\\appdata\\local\\programs\\python\\python312\\lib\\site-packages (2.32.3)\n",
      "Requirement already satisfied: beautifulsoup4 in c:\\users\\ankur\\appdata\\local\\programs\\python\\python312\\lib\\site-packages (4.12.3)\n",
      "Requirement already satisfied: charset-normalizer<4,>=2 in c:\\users\\ankur\\appdata\\local\\programs\\python\\python312\\lib\\site-packages (from requests) (3.3.2)\n",
      "Requirement already satisfied: idna<4,>=2.5 in c:\\users\\ankur\\appdata\\local\\programs\\python\\python312\\lib\\site-packages (from requests) (3.8)\n",
      "Requirement already satisfied: urllib3<3,>=1.21.1 in c:\\users\\ankur\\appdata\\local\\programs\\python\\python312\\lib\\site-packages (from requests) (2.2.2)\n",
      "Requirement already satisfied: certifi>=2017.4.17 in c:\\users\\ankur\\appdata\\local\\programs\\python\\python312\\lib\\site-packages (from requests) (2024.8.30)\n",
      "Requirement already satisfied: soupsieve>1.2 in c:\\users\\ankur\\appdata\\local\\programs\\python\\python312\\lib\\site-packages (from beautifulsoup4) (2.6)\n"
     ]
    }
   ],
   "source": [
    "!pip install requests beautifulsoup4"
   ]
  },
  {
   "cell_type": "code",
   "execution_count": 2,
   "id": "b3e450ca-4bed-4209-b26c-d8d4be2c3489",
   "metadata": {},
   "outputs": [],
   "source": [
    "import requests\n",
    "from bs4 import BeautifulSoup\n"
   ]
  },
  {
   "cell_type": "code",
   "execution_count": 3,
   "id": "2aa99666-68fa-4da3-99c0-c54280ef5e70",
   "metadata": {},
   "outputs": [],
   "source": [
    "url = 'http://quotes.toscrape.com'\n"
   ]
  },
  {
   "cell_type": "code",
   "execution_count": 4,
   "id": "67429b08-17df-4eda-9218-b05c75230ccb",
   "metadata": {},
   "outputs": [],
   "source": [
    "response = requests.get(url)\n"
   ]
  },
  {
   "cell_type": "code",
   "execution_count": 5,
   "id": "c0196a23-8d03-4994-b9b3-3901d7cf0b7d",
   "metadata": {},
   "outputs": [
    {
     "name": "stdout",
     "output_type": "stream",
     "text": [
      "200\n"
     ]
    }
   ],
   "source": [
    "print(response.status_code)\n"
   ]
  },
  {
   "cell_type": "code",
   "execution_count": 6,
   "id": "5d34db3c-66ed-40b4-80c4-53394dcc190f",
   "metadata": {},
   "outputs": [],
   "source": [
    "soup = BeautifulSoup(response.text, 'html.parser')\n"
   ]
  },
  {
   "cell_type": "code",
   "execution_count": 7,
   "id": "21db62f1-de8d-458b-86a8-406d994df66c",
   "metadata": {},
   "outputs": [
    {
     "name": "stdout",
     "output_type": "stream",
     "text": [
      "Quote: “The world as we have created it is a process of our thinking. It cannot be changed without changing our thinking.”\n",
      "Author: Albert Einstein\n",
      "Tags: change, deep-thoughts, thinking, world\n",
      "--------------------------------------------------------------------------------\n",
      "Quote: “It is our choices, Harry, that show what we truly are, far more than our abilities.”\n",
      "Author: J.K. Rowling\n",
      "Tags: abilities, choices\n",
      "--------------------------------------------------------------------------------\n",
      "Quote: “There are only two ways to live your life. One is as though nothing is a miracle. The other is as though everything is a miracle.”\n",
      "Author: Albert Einstein\n",
      "Tags: inspirational, life, live, miracle, miracles\n",
      "--------------------------------------------------------------------------------\n",
      "Quote: “The person, be it gentleman or lady, who has not pleasure in a good novel, must be intolerably stupid.”\n",
      "Author: Jane Austen\n",
      "Tags: aliteracy, books, classic, humor\n",
      "--------------------------------------------------------------------------------\n",
      "Quote: “Imperfection is beauty, madness is genius and it's better to be absolutely ridiculous than absolutely boring.”\n",
      "Author: Marilyn Monroe\n",
      "Tags: be-yourself, inspirational\n",
      "--------------------------------------------------------------------------------\n",
      "Quote: “Try not to become a man of success. Rather become a man of value.”\n",
      "Author: Albert Einstein\n",
      "Tags: adulthood, success, value\n",
      "--------------------------------------------------------------------------------\n",
      "Quote: “It is better to be hated for what you are than to be loved for what you are not.”\n",
      "Author: André Gide\n",
      "Tags: life, love\n",
      "--------------------------------------------------------------------------------\n",
      "Quote: “I have not failed. I've just found 10,000 ways that won't work.”\n",
      "Author: Thomas A. Edison\n",
      "Tags: edison, failure, inspirational, paraphrased\n",
      "--------------------------------------------------------------------------------\n",
      "Quote: “A woman is like a tea bag; you never know how strong it is until it's in hot water.”\n",
      "Author: Eleanor Roosevelt\n",
      "Tags: misattributed-eleanor-roosevelt\n",
      "--------------------------------------------------------------------------------\n",
      "Quote: “A day without sunshine is like, you know, night.”\n",
      "Author: Steve Martin\n",
      "Tags: humor, obvious, simile\n",
      "--------------------------------------------------------------------------------\n"
     ]
    }
   ],
   "source": [
    "quotes = soup.find_all('div', class_='quote')\n",
    "\n",
    "for quote in quotes:\n",
    "    text = quote.find('span', class_='text').get_text()\n",
    "    author = quote.find('small', class_='author').get_text()\n",
    "    tags = [tag.get_text() for tag in quote.find_all('a', class_='tag')]\n",
    "    print(f'Quote: {text}')\n",
    "    print(f'Author: {author}')\n",
    "    print(f'Tags: {\", \".join(tags)}')\n",
    "    print('-' * 80)\n"
   ]
  },
  {
   "cell_type": "code",
   "execution_count": 8,
   "id": "0618d00c-3012-42cf-858e-b7ac4215a577",
   "metadata": {},
   "outputs": [
    {
     "name": "stdout",
     "output_type": "stream",
     "text": [
      "Quote: “The world as we have created it is a process of our thinking. It cannot be changed without changing our thinking.”\n",
      "Author: Albert Einstein\n",
      "Tags: change, deep-thoughts, thinking, world\n",
      "--------------------------------------------------------------------------------\n",
      "Quote: “It is our choices, Harry, that show what we truly are, far more than our abilities.”\n",
      "Author: J.K. Rowling\n",
      "Tags: abilities, choices\n",
      "--------------------------------------------------------------------------------\n",
      "Quote: “There are only two ways to live your life. One is as though nothing is a miracle. The other is as though everything is a miracle.”\n",
      "Author: Albert Einstein\n",
      "Tags: inspirational, life, live, miracle, miracles\n",
      "--------------------------------------------------------------------------------\n",
      "Quote: “The person, be it gentleman or lady, who has not pleasure in a good novel, must be intolerably stupid.”\n",
      "Author: Jane Austen\n",
      "Tags: aliteracy, books, classic, humor\n",
      "--------------------------------------------------------------------------------\n",
      "Quote: “Imperfection is beauty, madness is genius and it's better to be absolutely ridiculous than absolutely boring.”\n",
      "Author: Marilyn Monroe\n",
      "Tags: be-yourself, inspirational\n",
      "--------------------------------------------------------------------------------\n",
      "Quote: “Try not to become a man of success. Rather become a man of value.”\n",
      "Author: Albert Einstein\n",
      "Tags: adulthood, success, value\n",
      "--------------------------------------------------------------------------------\n",
      "Quote: “It is better to be hated for what you are than to be loved for what you are not.”\n",
      "Author: André Gide\n",
      "Tags: life, love\n",
      "--------------------------------------------------------------------------------\n",
      "Quote: “I have not failed. I've just found 10,000 ways that won't work.”\n",
      "Author: Thomas A. Edison\n",
      "Tags: edison, failure, inspirational, paraphrased\n",
      "--------------------------------------------------------------------------------\n",
      "Quote: “A woman is like a tea bag; you never know how strong it is until it's in hot water.”\n",
      "Author: Eleanor Roosevelt\n",
      "Tags: misattributed-eleanor-roosevelt\n",
      "--------------------------------------------------------------------------------\n",
      "Quote: “A day without sunshine is like, you know, night.”\n",
      "Author: Steve Martin\n",
      "Tags: humor, obvious, simile\n",
      "--------------------------------------------------------------------------------\n",
      "Quote: “This life is what you make it. No matter what, you're going to mess up sometimes, it's a universal truth. But the good part is you get to decide how you're going to mess it up. Girls will be your friends - they'll act like it anyway. But just remember, some come, some go. The ones that stay with you through everything - they're your true best friends. Don't let go of them. Also remember, sisters make the best friends in the world. As for lovers, well, they'll come and go too. And baby, I hate to say it, most of them - actually pretty much all of them are going to break your heart, but you can't give up because if you give up, you'll never find your soulmate. You'll never find that half who makes you whole and that goes for everything. Just because you fail once, doesn't mean you're gonna fail at everything. Keep trying, hold on, and always, always, always believe in yourself, because if you don't, then who will, sweetie? So keep your head high, keep your chin up, and most importantly, keep smiling, because life's a beautiful thing and there's so much to smile about.”\n",
      "Author: Marilyn Monroe\n",
      "Tags: friends, heartbreak, inspirational, life, love, sisters\n",
      "--------------------------------------------------------------------------------\n",
      "Quote: “It takes a great deal of bravery to stand up to our enemies, but just as much to stand up to our friends.”\n",
      "Author: J.K. Rowling\n",
      "Tags: courage, friends\n",
      "--------------------------------------------------------------------------------\n",
      "Quote: “If you can't explain it to a six year old, you don't understand it yourself.”\n",
      "Author: Albert Einstein\n",
      "Tags: simplicity, understand\n",
      "--------------------------------------------------------------------------------\n",
      "Quote: “You may not be her first, her last, or her only. She loved before she may love again. But if she loves you now, what else matters? She's not perfect—you aren't either, and the two of you may never be perfect together but if she can make you laugh, cause you to think twice, and admit to being human and making mistakes, hold onto her and give her the most you can. She may not be thinking about you every second of the day, but she will give you a part of her that she knows you can break—her heart. So don't hurt her, don't change her, don't analyze and don't expect more than she can give. Smile when she makes you happy, let her know when she makes you mad, and miss her when she's not there.”\n",
      "Author: Bob Marley\n",
      "Tags: love\n",
      "--------------------------------------------------------------------------------\n",
      "Quote: “I like nonsense, it wakes up the brain cells. Fantasy is a necessary ingredient in living.”\n",
      "Author: Dr. Seuss\n",
      "Tags: fantasy\n",
      "--------------------------------------------------------------------------------\n",
      "Quote: “I may not have gone where I intended to go, but I think I have ended up where I needed to be.”\n",
      "Author: Douglas Adams\n",
      "Tags: life, navigation\n",
      "--------------------------------------------------------------------------------\n",
      "Quote: “The opposite of love is not hate, it's indifference. The opposite of art is not ugliness, it's indifference. The opposite of faith is not heresy, it's indifference. And the opposite of life is not death, it's indifference.”\n",
      "Author: Elie Wiesel\n",
      "Tags: activism, apathy, hate, indifference, inspirational, love, opposite, philosophy\n",
      "--------------------------------------------------------------------------------\n",
      "Quote: “It is not a lack of love, but a lack of friendship that makes unhappy marriages.”\n",
      "Author: Friedrich Nietzsche\n",
      "Tags: friendship, lack-of-friendship, lack-of-love, love, marriage, unhappy-marriage\n",
      "--------------------------------------------------------------------------------\n",
      "Quote: “Good friends, good books, and a sleepy conscience: this is the ideal life.”\n",
      "Author: Mark Twain\n",
      "Tags: books, contentment, friends, friendship, life\n",
      "--------------------------------------------------------------------------------\n",
      "Quote: “Life is what happens to us while we are making other plans.”\n",
      "Author: Allen Saunders\n",
      "Tags: fate, life, misattributed-john-lennon, planning, plans\n",
      "--------------------------------------------------------------------------------\n"
     ]
    }
   ],
   "source": [
    "base_url = 'http://quotes.toscrape.com/page/{}/'\n",
    "\n",
    "for page in range(1, 3):  # Scraping the first 2 pages\n",
    "    response = requests.get(base_url.format(page))\n",
    "    soup = BeautifulSoup(response.text, 'html.parser')\n",
    "    \n",
    "    quotes = soup.find_all('div', class_='quote')\n",
    "    \n",
    "    for quote in quotes:\n",
    "        text = quote.find('span', class_='text').get_text()\n",
    "        author = quote.find('small', class_='author').get_text()\n",
    "        tags = [tag.get_text() for tag in quote.find_all('a', class_='tag')]\n",
    "        print(f'Quote: {text}')\n",
    "        print(f'Author: {author}')\n",
    "        print(f'Tags: {\", \".join(tags)}')\n",
    "        print('-' * 80)\n"
   ]
  }
 ],
 "metadata": {
  "kernelspec": {
   "display_name": "Python 3 (ipykernel)",
   "language": "python",
   "name": "python3"
  },
  "language_info": {
   "codemirror_mode": {
    "name": "ipython",
    "version": 3
   },
   "file_extension": ".py",
   "mimetype": "text/x-python",
   "name": "python",
   "nbconvert_exporter": "python",
   "pygments_lexer": "ipython3",
   "version": "3.12.5"
  }
 },
 "nbformat": 4,
 "nbformat_minor": 5
}
